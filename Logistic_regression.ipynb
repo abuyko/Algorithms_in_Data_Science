{
 "cells": [
  {
   "cell_type": "code",
   "execution_count": 78,
   "metadata": {
    "collapsed": true
   },
   "outputs": [],
   "source": [
    "import numpy as np\n",
    "from numpy.random import randn, gamma\n",
    "from sklearn.linear_model import LogisticRegression\n",
    "from neo4j.v1 import GraphDatabase, basic_auth\n",
    "import pandas as pd"
   ]
  },
  {
   "cell_type": "code",
   "execution_count": 79,
   "metadata": {
    "collapsed": true
   },
   "outputs": [],
   "source": [
    "db_location = \"bolt://localhost:7687\"\n",
    "username = \"neo4j\"\n",
    "password = \"P^5lw9MJi@BQ\"\n",
    "driver = GraphDatabase.driver(db_location, auth=basic_auth(username, password))"
   ]
  },
  {
   "cell_type": "code",
   "execution_count": 80,
   "metadata": {},
   "outputs": [],
   "source": [
    "# CREATE DATA\n",
    "\n",
    "with driver.session() as session:\n",
    "    \n",
    "    # Erase database\n",
    "    with session.begin_transaction() as clear_db:\n",
    "        clear_db.run(\"MATCH (n) DETACH DELETE n\")\n",
    "    \n",
    "    # Add users with properties score_math up to 10 and score_English up to 10\n",
    "    with session.begin_transaction() as create_users:\n",
    "        create_users.run(\"FOREACH(r IN range(1,10)| \"\n",
    "                         \"CREATE (user :User {user_id: r, time_spent: rand()*500, friends_number: rand()*100}))\") \n",
    "    \n",
    "    # Add random relationships between users\n",
    "    with session.begin_transaction() as add_relationships:\n",
    "         add_relationships.run(\"MATCH(user_1 :User), (user_2 :User) \"\n",
    "                                \"WHERE rand()<0.3 AND NOT user_1.user_id = user_2.user_id \"\n",
    "                                \"CREATE(user_1)-[:IS_FRIEND]->(user_2)\")"
   ]
  },
  {
   "cell_type": "code",
   "execution_count": null,
   "metadata": {
    "collapsed": true
   },
   "outputs": [],
   "source": []
  },
  {
   "cell_type": "code",
   "execution_count": 81,
   "metadata": {},
   "outputs": [],
   "source": [
    "#IMPORT DATA\n",
    "\n",
    "with driver.session() as session:\n",
    "    \n",
    "    # Get vectors with data from database\n",
    "    with session.begin_transaction() as get_data:\n",
    "        result = get_data.run(\n",
    "            \"MATCH(user_1 :User), (user_2 :User) \"\n",
    "            \"WHERE NOT user_1.user_id = user_2.user_id \"\n",
    "            \"WITH user_1.user_id as friend_id, user_2.user_id as user_id, \"\n",
    "                \"user_1.time_spent as friend_time_spent, user_2.time_spent as user_time_spent, \"\n",
    "                \"user_1.friends_number as friend_friends_number, user_2.friends_number as user_friends_number, \"\n",
    "                \"CASE WHEN (user_1)-[:IS_FRIEND]->(user_2) THEN 1 ELSE 0 END as is_friend \"\n",
    "            \"RETURN friend_id, user_id, friend_time_spent, user_time_spent, friend_friends_number, user_friends_number, is_friend \"\n",
    "        )\n",
    "        training_data = pd.DataFrame([{k: v for k, v in r.items()} for r in result])"
   ]
  },
  {
   "cell_type": "code",
   "execution_count": 90,
   "metadata": {
    "scrolled": true
   },
   "outputs": [],
   "source": [
    "# training_data"
   ]
  },
  {
   "cell_type": "code",
   "execution_count": 84,
   "metadata": {
    "collapsed": true
   },
   "outputs": [],
   "source": [
    "features_columns = [x for x in training_data.columns if x not in ['friend_id','user_id', 'is_friend']]\n",
    "responses_columns = ['is_friend']\n",
    "X_data = training_data[features_columns]\n",
    "Y_data = training_data[responses_columns]"
   ]
  },
  {
   "cell_type": "code",
   "execution_count": 85,
   "metadata": {},
   "outputs": [
    {
     "data": {
      "text/html": [
       "<div>\n",
       "<style>\n",
       "    .dataframe thead tr:only-child th {\n",
       "        text-align: right;\n",
       "    }\n",
       "\n",
       "    .dataframe thead th {\n",
       "        text-align: left;\n",
       "    }\n",
       "\n",
       "    .dataframe tbody tr th {\n",
       "        vertical-align: top;\n",
       "    }\n",
       "</style>\n",
       "<table border=\"1\" class=\"dataframe\">\n",
       "  <thead>\n",
       "    <tr style=\"text-align: right;\">\n",
       "      <th></th>\n",
       "      <th>friend_friends_number</th>\n",
       "      <th>friend_time_spent</th>\n",
       "      <th>user_friends_number</th>\n",
       "      <th>user_time_spent</th>\n",
       "    </tr>\n",
       "  </thead>\n",
       "  <tbody>\n",
       "    <tr>\n",
       "      <th>0</th>\n",
       "      <td>4.927981</td>\n",
       "      <td>54.378804</td>\n",
       "      <td>75.198953</td>\n",
       "      <td>361.988421</td>\n",
       "    </tr>\n",
       "    <tr>\n",
       "      <th>1</th>\n",
       "      <td>4.927981</td>\n",
       "      <td>54.378804</td>\n",
       "      <td>25.326768</td>\n",
       "      <td>155.986747</td>\n",
       "    </tr>\n",
       "    <tr>\n",
       "      <th>2</th>\n",
       "      <td>4.927981</td>\n",
       "      <td>54.378804</td>\n",
       "      <td>37.839174</td>\n",
       "      <td>86.504659</td>\n",
       "    </tr>\n",
       "    <tr>\n",
       "      <th>3</th>\n",
       "      <td>4.927981</td>\n",
       "      <td>54.378804</td>\n",
       "      <td>52.491045</td>\n",
       "      <td>257.267734</td>\n",
       "    </tr>\n",
       "    <tr>\n",
       "      <th>4</th>\n",
       "      <td>4.927981</td>\n",
       "      <td>54.378804</td>\n",
       "      <td>6.433075</td>\n",
       "      <td>197.152716</td>\n",
       "    </tr>\n",
       "  </tbody>\n",
       "</table>\n",
       "</div>"
      ],
      "text/plain": [
       "   friend_friends_number  friend_time_spent  user_friends_number  \\\n",
       "0               4.927981          54.378804            75.198953   \n",
       "1               4.927981          54.378804            25.326768   \n",
       "2               4.927981          54.378804            37.839174   \n",
       "3               4.927981          54.378804            52.491045   \n",
       "4               4.927981          54.378804             6.433075   \n",
       "\n",
       "   user_time_spent  \n",
       "0       361.988421  \n",
       "1       155.986747  \n",
       "2        86.504659  \n",
       "3       257.267734  \n",
       "4       197.152716  "
      ]
     },
     "execution_count": 85,
     "metadata": {},
     "output_type": "execute_result"
    }
   ],
   "source": [
    "X_data.head()"
   ]
  },
  {
   "cell_type": "code",
   "execution_count": 92,
   "metadata": {
    "collapsed": true
   },
   "outputs": [],
   "source": [
    "y = Y_data[\"is_friend\"].values"
   ]
  },
  {
   "cell_type": "code",
   "execution_count": 93,
   "metadata": {},
   "outputs": [
    {
     "data": {
      "text/plain": [
       "array([1, 0, 0, 0, 0, 0, 0, 0, 0, 0, 0, 0, 1, 0, 1, 1, 1, 0, 0, 0, 0, 0, 0,\n",
       "       0, 0, 0, 0, 0, 0, 0, 0, 0, 0, 0, 0, 0, 0, 0, 0, 0, 0, 0, 0, 0, 0, 0,\n",
       "       1, 0, 0, 0, 1, 0, 0, 1, 0, 0, 0, 0, 0, 0, 0, 0, 0, 0, 0, 0, 0, 0, 0,\n",
       "       0, 0, 0, 0, 0, 0, 0, 0, 0, 0, 0, 0, 0, 0, 0, 0, 0, 0, 0, 0, 0], dtype=int64)"
      ]
     },
     "execution_count": 93,
     "metadata": {},
     "output_type": "execute_result"
    }
   ],
   "source": [
    "y"
   ]
  },
  {
   "cell_type": "code",
   "execution_count": 94,
   "metadata": {},
   "outputs": [
    {
     "data": {
      "text/plain": [
       "LogisticRegression(C=1.0, class_weight=None, dual=False, fit_intercept=True,\n",
       "          intercept_scaling=1, max_iter=100, multi_class='ovr', n_jobs=1,\n",
       "          penalty='l2', random_state=None, solver='liblinear', tol=0.0001,\n",
       "          verbose=0, warm_start=False)"
      ]
     },
     "execution_count": 94,
     "metadata": {},
     "output_type": "execute_result"
    }
   ],
   "source": [
    "model_lr = LogisticRegression()\n",
    "\n",
    "model_lr.fit(X_data, y)"
   ]
  },
  {
   "cell_type": "code",
   "execution_count": 97,
   "metadata": {
    "collapsed": true
   },
   "outputs": [],
   "source": [
    "new_data = pd.DataFrame(data = {'friend_friends_number': [283, 59, 94], 'friend_time_spent': [490, 283, 15], \n",
    "                                'user_friends_number': [635, 44, 137], 'user_timespent': [252, 65, 98]})"
   ]
  },
  {
   "cell_type": "code",
   "execution_count": 98,
   "metadata": {},
   "outputs": [
    {
     "data": {
      "text/html": [
       "<div>\n",
       "<style>\n",
       "    .dataframe thead tr:only-child th {\n",
       "        text-align: right;\n",
       "    }\n",
       "\n",
       "    .dataframe thead th {\n",
       "        text-align: left;\n",
       "    }\n",
       "\n",
       "    .dataframe tbody tr th {\n",
       "        vertical-align: top;\n",
       "    }\n",
       "</style>\n",
       "<table border=\"1\" class=\"dataframe\">\n",
       "  <thead>\n",
       "    <tr style=\"text-align: right;\">\n",
       "      <th></th>\n",
       "      <th>friend_friends_number</th>\n",
       "      <th>friend_time_spent</th>\n",
       "      <th>user_friends_number</th>\n",
       "      <th>user_timespent</th>\n",
       "    </tr>\n",
       "  </thead>\n",
       "  <tbody>\n",
       "    <tr>\n",
       "      <th>0</th>\n",
       "      <td>283</td>\n",
       "      <td>490</td>\n",
       "      <td>635</td>\n",
       "      <td>252</td>\n",
       "    </tr>\n",
       "    <tr>\n",
       "      <th>1</th>\n",
       "      <td>59</td>\n",
       "      <td>283</td>\n",
       "      <td>44</td>\n",
       "      <td>65</td>\n",
       "    </tr>\n",
       "    <tr>\n",
       "      <th>2</th>\n",
       "      <td>94</td>\n",
       "      <td>15</td>\n",
       "      <td>137</td>\n",
       "      <td>98</td>\n",
       "    </tr>\n",
       "  </tbody>\n",
       "</table>\n",
       "</div>"
      ],
      "text/plain": [
       "   friend_friends_number  friend_time_spent  user_friends_number  \\\n",
       "0                    283                490                  635   \n",
       "1                     59                283                   44   \n",
       "2                     94                 15                  137   \n",
       "\n",
       "   user_timespent  \n",
       "0             252  \n",
       "1              65  \n",
       "2              98  "
      ]
     },
     "execution_count": 98,
     "metadata": {},
     "output_type": "execute_result"
    }
   ],
   "source": [
    "new_data"
   ]
  },
  {
   "cell_type": "code",
   "execution_count": 99,
   "metadata": {},
   "outputs": [
    {
     "data": {
      "text/plain": [
       "array([0, 0, 0], dtype=int64)"
      ]
     },
     "execution_count": 99,
     "metadata": {},
     "output_type": "execute_result"
    }
   ],
   "source": [
    "model_lr.predict(new_data)"
   ]
  },
  {
   "cell_type": "code",
   "execution_count": 106,
   "metadata": {
    "collapsed": true
   },
   "outputs": [],
   "source": [
    "predicted_data = pd.DataFrame({'interested_in': model_lr.predict_proba(new_data)[:, 1]})"
   ]
  },
  {
   "cell_type": "code",
   "execution_count": 107,
   "metadata": {},
   "outputs": [
    {
     "data": {
      "text/html": [
       "<div>\n",
       "<style>\n",
       "    .dataframe thead tr:only-child th {\n",
       "        text-align: right;\n",
       "    }\n",
       "\n",
       "    .dataframe thead th {\n",
       "        text-align: left;\n",
       "    }\n",
       "\n",
       "    .dataframe tbody tr th {\n",
       "        vertical-align: top;\n",
       "    }\n",
       "</style>\n",
       "<table border=\"1\" class=\"dataframe\">\n",
       "  <thead>\n",
       "    <tr style=\"text-align: right;\">\n",
       "      <th></th>\n",
       "      <th>interested_in</th>\n",
       "    </tr>\n",
       "  </thead>\n",
       "  <tbody>\n",
       "    <tr>\n",
       "      <th>0</th>\n",
       "      <td>0.002252</td>\n",
       "    </tr>\n",
       "    <tr>\n",
       "      <th>1</th>\n",
       "      <td>0.055170</td>\n",
       "    </tr>\n",
       "    <tr>\n",
       "      <th>2</th>\n",
       "      <td>0.053280</td>\n",
       "    </tr>\n",
       "  </tbody>\n",
       "</table>\n",
       "</div>"
      ],
      "text/plain": [
       "   interested_in\n",
       "0       0.002252\n",
       "1       0.055170\n",
       "2       0.053280"
      ]
     },
     "execution_count": 107,
     "metadata": {},
     "output_type": "execute_result"
    }
   ],
   "source": [
    "predicted_data"
   ]
  }
 ],
 "metadata": {
  "kernelspec": {
   "display_name": "Python 3",
   "language": "python",
   "name": "python3"
  },
  "language_info": {
   "codemirror_mode": {
    "name": "ipython",
    "version": 3
   },
   "file_extension": ".py",
   "mimetype": "text/x-python",
   "name": "python",
   "nbconvert_exporter": "python",
   "pygments_lexer": "ipython3",
   "version": "3.6.2"
  }
 },
 "nbformat": 4,
 "nbformat_minor": 2
}
